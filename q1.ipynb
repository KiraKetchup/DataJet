{
 "cells": [
  {
   "cell_type": "code",
   "id": "initial_id",
   "metadata": {
    "collapsed": true,
    "ExecuteTime": {
     "end_time": "2025-05-21T00:14:28.639862Z",
     "start_time": "2025-05-21T00:14:28.632776Z"
    }
   },
   "source": [
    "import pandas as pd\n",
    "import re\n",
    "from io import StringIO"
   ],
   "outputs": [],
   "execution_count": 14
  },
  {
   "metadata": {
    "ExecuteTime": {
     "end_time": "2025-05-21T00:23:11.393983Z",
     "start_time": "2025-05-21T00:23:11.332497Z"
    }
   },
   "cell_type": "code",
   "source": [
    "# Import Data\n",
    "data = 'Airline Code;DelayTimes;FlightCodes;To_From\\nAir Canada (!);[21, 40];20015.0;WAterLoo_NEWYork\\n<Air France> (12);[];;Montreal_TORONTO\\n(Porter Airways. );[60, 22, 87];20035.0;CALgary_Ottawa\\n12. Air France;[78, 66];;Ottawa_VANcouvER\\n\"\"\".\\\\.Lufthansa.\\\\.\"\"\";[12, 33];20055.0;london_MONTreal\\n'\n",
    "\n",
    "df = pd.read_csv(StringIO(data), delimiter=';')\n",
    "print(df)"
   ],
   "id": "e701c7824b7cd51e",
   "outputs": [
    {
     "name": "stdout",
     "output_type": "stream",
     "text": [
      "         Airline Code    DelayTimes  FlightCodes           To_From\n",
      "0      Air Canada (!)      [21, 40]      20015.0  WAterLoo_NEWYork\n",
      "1   <Air France> (12)            []          NaN  Montreal_TORONTO\n",
      "2  (Porter Airways. )  [60, 22, 87]      20035.0    CALgary_Ottawa\n",
      "3      12. Air France      [78, 66]          NaN  Ottawa_VANcouvER\n",
      "4   \".\\.Lufthansa.\\.\"      [12, 33]      20055.0   london_MONTreal\n"
     ]
    }
   ],
   "execution_count": 26
  },
  {
   "metadata": {
    "ExecuteTime": {
     "end_time": "2025-05-21T00:23:12.222379Z",
     "start_time": "2025-05-21T00:23:12.193989Z"
    }
   },
   "cell_type": "code",
   "source": [
    "# Functions\n",
    "def split_to_from(value):\n",
    "    if pd.isna(value):\n",
    "        return pd.Series([None, None])\n",
    "    \n",
    "    parts = value.split('_')\n",
    "    from_city = parts[0].strip().title()\n",
    "    to_city = parts[1].strip().title()\n",
    "    \n",
    "    return pd.Series([from_city, to_city])\n",
    "\n",
    "\n",
    "def airline_code(code):\n",
    "    code = str(code)\n",
    "    code = re.sub(r'[^a-zA-Z ]+', '', code).strip()\n",
    "    return code\n"
   ],
   "id": "2b1e2e5dc61ad382",
   "outputs": [],
   "execution_count": 27
  },
  {
   "metadata": {
    "ExecuteTime": {
     "end_time": "2025-05-21T00:23:13.010627Z",
     "start_time": "2025-05-21T00:23:12.997783Z"
    }
   },
   "cell_type": "code",
   "source": [
    "# 1. FlightCodes column\n",
    "df['FlightCodes'] = pd.to_numeric(df['FlightCodes'], errors='coerce')\n",
    "min_val = int(df['FlightCodes'].min())\n",
    "flight_codes = [min_val + i * 10 for i in range(len(df))]\n",
    "df['FlightCodes'] = flight_codes\n",
    "\n",
    "print(df)\n"
   ],
   "id": "1e06962a5b38159e",
   "outputs": [
    {
     "name": "stdout",
     "output_type": "stream",
     "text": [
      "         Airline Code    DelayTimes  FlightCodes           To_From\n",
      "0      Air Canada (!)      [21, 40]        20015  WAterLoo_NEWYork\n",
      "1   <Air France> (12)            []        20025  Montreal_TORONTO\n",
      "2  (Porter Airways. )  [60, 22, 87]        20035    CALgary_Ottawa\n",
      "3      12. Air France      [78, 66]        20045  Ottawa_VANcouvER\n",
      "4   \".\\.Lufthansa.\\.\"      [12, 33]        20055   london_MONTreal\n"
     ]
    }
   ],
   "execution_count": 28
  },
  {
   "metadata": {
    "ExecuteTime": {
     "end_time": "2025-05-21T00:23:14.379248Z",
     "start_time": "2025-05-21T00:23:14.364412Z"
    }
   },
   "cell_type": "code",
   "source": [
    "#2. To_From column\n",
    "df[['From', 'To']] = df['To_From'].apply(split_to_from)\n",
    "df.drop(columns=['To_From'], inplace=True)\n",
    "\n",
    "print(df)\n"
   ],
   "id": "e33cc25aebf055e4",
   "outputs": [
    {
     "name": "stdout",
     "output_type": "stream",
     "text": [
      "         Airline Code    DelayTimes  FlightCodes      From         To\n",
      "0      Air Canada (!)      [21, 40]        20015  Waterloo    Newyork\n",
      "1   <Air France> (12)            []        20025  Montreal    Toronto\n",
      "2  (Porter Airways. )  [60, 22, 87]        20035   Calgary     Ottawa\n",
      "3      12. Air France      [78, 66]        20045    Ottawa  Vancouver\n",
      "4   \".\\.Lufthansa.\\.\"      [12, 33]        20055    London   Montreal\n"
     ]
    }
   ],
   "execution_count": 29
  },
  {
   "metadata": {
    "ExecuteTime": {
     "end_time": "2025-05-21T00:23:16.577369Z",
     "start_time": "2025-05-21T00:23:16.567436Z"
    }
   },
   "cell_type": "code",
   "source": [
    "#3. Airline Code column\n",
    "df['Airline Code'] = df['Airline Code'].apply(airline_code)\n",
    "\n",
    "print(df)"
   ],
   "id": "c4fe7eac583013c3",
   "outputs": [
    {
     "name": "stdout",
     "output_type": "stream",
     "text": [
      "     Airline Code    DelayTimes  FlightCodes      From         To\n",
      "0      Air Canada      [21, 40]        20015  Waterloo    Newyork\n",
      "1      Air France            []        20025  Montreal    Toronto\n",
      "2  Porter Airways  [60, 22, 87]        20035   Calgary     Ottawa\n",
      "3      Air France      [78, 66]        20045    Ottawa  Vancouver\n",
      "4       Lufthansa      [12, 33]        20055    London   Montreal\n"
     ]
    }
   ],
   "execution_count": 30
  },
  {
   "metadata": {
    "ExecuteTime": {
     "end_time": "2025-05-21T00:23:17.852482Z",
     "start_time": "2025-05-21T00:23:17.848108Z"
    }
   },
   "cell_type": "code",
   "source": "",
   "id": "7f7911b5f4b1e7a7",
   "outputs": [],
   "execution_count": 30
  },
  {
   "metadata": {},
   "cell_type": "code",
   "outputs": [],
   "execution_count": null,
   "source": "",
   "id": "2bf92b55db5a774d"
  }
 ],
 "metadata": {
  "kernelspec": {
   "display_name": "Python 3",
   "language": "python",
   "name": "python3"
  },
  "language_info": {
   "codemirror_mode": {
    "name": "ipython",
    "version": 2
   },
   "file_extension": ".py",
   "mimetype": "text/x-python",
   "name": "python",
   "nbconvert_exporter": "python",
   "pygments_lexer": "ipython2",
   "version": "2.7.6"
  }
 },
 "nbformat": 4,
 "nbformat_minor": 5
}
