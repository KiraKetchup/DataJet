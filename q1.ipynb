{
 "cells": [
  {
   "cell_type": "code",
   "id": "initial_id",
   "metadata": {
    "collapsed": true,
    "ExecuteTime": {
     "end_time": "2025-05-21T01:11:36.820721Z",
     "start_time": "2025-05-21T01:11:36.815734Z"
    }
   },
   "source": [
    "import pandas as pd\n",
    "import numpy as np\n",
    "import re\n",
    "from io import StringIO"
   ],
   "outputs": [],
   "execution_count": 24
  },
  {
   "metadata": {
    "ExecuteTime": {
     "end_time": "2025-05-21T01:11:37.389842Z",
     "start_time": "2025-05-21T01:11:37.378292Z"
    }
   },
   "cell_type": "code",
   "source": [
    "# Import Data\n",
    "data = 'Airline Code;DelayTimes;FlightCodes;To_From\\nAir Canada (!);[21, 40];20015.0;WAterLoo_NEWYork\\n<Air France> (12);[];;Montreal_TORONTO\\n(Porter Airways. );[60, 22, 87];20035.0;CALgary_Ottawa\\n12. Air France;[78, 66];;Ottawa_VANcouvER\\n\"\"\".\\\\.Lufthansa.\\\\.\"\"\";[12, 33];20055.0;london_MONTreal\\n'\n",
    "\n",
    "df = pd.read_csv(StringIO(data), delimiter=';')\n",
    "print(df)"
   ],
   "id": "e701c7824b7cd51e",
   "outputs": [
    {
     "name": "stdout",
     "output_type": "stream",
     "text": [
      "         Airline Code    DelayTimes  FlightCodes           To_From\n",
      "0      Air Canada (!)      [21, 40]      20015.0  WAterLoo_NEWYork\n",
      "1   <Air France> (12)            []          NaN  Montreal_TORONTO\n",
      "2  (Porter Airways. )  [60, 22, 87]      20035.0    CALgary_Ottawa\n",
      "3      12. Air France      [78, 66]          NaN  Ottawa_VANcouvER\n",
      "4   \".\\.Lufthansa.\\.\"      [12, 33]      20055.0   london_MONTreal\n"
     ]
    }
   ],
   "execution_count": 25
  },
  {
   "metadata": {
    "ExecuteTime": {
     "end_time": "2025-05-21T01:11:37.962263Z",
     "start_time": "2025-05-21T01:11:37.955559Z"
    }
   },
   "cell_type": "code",
   "source": [
    "# Functions\n",
    "def split_to_from(value):\n",
    "    if pd.isna(value):\n",
    "        return pd.Series([None, None])\n",
    "    \n",
    "    parts = value.split('_')\n",
    "    from_city = parts[0].strip().title()\n",
    "    to_city = parts[1].strip().title()\n",
    "    \n",
    "    return pd.Series([from_city, to_city])\n",
    "\n",
    "\n",
    "def airline_code(code):\n",
    "    code = str(code)\n",
    "    code = re.sub(r'[^a-zA-Z ]+', '', code).strip()\n",
    "    return code\n"
   ],
   "id": "2b1e2e5dc61ad382",
   "outputs": [],
   "execution_count": 26
  },
  {
   "metadata": {
    "ExecuteTime": {
     "end_time": "2025-05-21T01:11:38.662798Z",
     "start_time": "2025-05-21T01:11:38.652162Z"
    }
   },
   "cell_type": "code",
   "source": [
    "# 1. FlightCodes column\n",
    "codes = df['FlightCodes'].to_numpy()\n",
    "for i in df[df['FlightCodes'].isna()].index:\n",
    "        codes[i] = codes[i - 1] + 10\n",
    "        \n",
    "df['FlightCodes'] = codes.astype(int)\n",
    "\n",
    "print(df)\n"
   ],
   "id": "1e06962a5b38159e",
   "outputs": [
    {
     "name": "stdout",
     "output_type": "stream",
     "text": [
      "         Airline Code    DelayTimes  FlightCodes           To_From\n",
      "0      Air Canada (!)      [21, 40]        20015  WAterLoo_NEWYork\n",
      "1   <Air France> (12)            []        20025  Montreal_TORONTO\n",
      "2  (Porter Airways. )  [60, 22, 87]        20035    CALgary_Ottawa\n",
      "3      12. Air France      [78, 66]        20045  Ottawa_VANcouvER\n",
      "4   \".\\.Lufthansa.\\.\"      [12, 33]        20055   london_MONTreal\n"
     ]
    }
   ],
   "execution_count": 27
  },
  {
   "metadata": {
    "ExecuteTime": {
     "end_time": "2025-05-21T01:11:47.690913Z",
     "start_time": "2025-05-21T01:11:47.672952Z"
    }
   },
   "cell_type": "code",
   "source": [
    "#2. To_From column\n",
    "df[['From', 'To']] = df['To_From'].apply(split_to_from)\n",
    "df.drop(columns=['To_From'], inplace=True)\n",
    "\n",
    "print(df)\n"
   ],
   "id": "e33cc25aebf055e4",
   "outputs": [
    {
     "name": "stdout",
     "output_type": "stream",
     "text": [
      "         Airline Code    DelayTimes  FlightCodes      From         To\n",
      "0      Air Canada (!)      [21, 40]        20015  Waterloo    Newyork\n",
      "1   <Air France> (12)            []        20025  Montreal    Toronto\n",
      "2  (Porter Airways. )  [60, 22, 87]        20035   Calgary     Ottawa\n",
      "3      12. Air France      [78, 66]        20045    Ottawa  Vancouver\n",
      "4   \".\\.Lufthansa.\\.\"      [12, 33]        20055    London   Montreal\n"
     ]
    }
   ],
   "execution_count": 28
  },
  {
   "metadata": {
    "ExecuteTime": {
     "end_time": "2025-05-21T01:11:48.656669Z",
     "start_time": "2025-05-21T01:11:48.647232Z"
    }
   },
   "cell_type": "code",
   "source": [
    "#3. Airline Code column\n",
    "df['Airline Code'] = df['Airline Code'].apply(airline_code)\n",
    "\n",
    "print(df)"
   ],
   "id": "c4fe7eac583013c3",
   "outputs": [
    {
     "name": "stdout",
     "output_type": "stream",
     "text": [
      "     Airline Code    DelayTimes  FlightCodes      From         To\n",
      "0      Air Canada      [21, 40]        20015  Waterloo    Newyork\n",
      "1      Air France            []        20025  Montreal    Toronto\n",
      "2  Porter Airways  [60, 22, 87]        20035   Calgary     Ottawa\n",
      "3      Air France      [78, 66]        20045    Ottawa  Vancouver\n",
      "4       Lufthansa      [12, 33]        20055    London   Montreal\n"
     ]
    }
   ],
   "execution_count": 29
  },
  {
   "metadata": {},
   "cell_type": "code",
   "outputs": [],
   "execution_count": null,
   "source": "",
   "id": "693ee9b8f8fb6f84"
  }
 ],
 "metadata": {
  "kernelspec": {
   "display_name": "Python 3",
   "language": "python",
   "name": "python3"
  },
  "language_info": {
   "codemirror_mode": {
    "name": "ipython",
    "version": 2
   },
   "file_extension": ".py",
   "mimetype": "text/x-python",
   "name": "python",
   "nbconvert_exporter": "python",
   "pygments_lexer": "ipython2",
   "version": "2.7.6"
  }
 },
 "nbformat": 4,
 "nbformat_minor": 5
}
